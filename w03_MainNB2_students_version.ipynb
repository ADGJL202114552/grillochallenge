{
  "cells": [
    {
      "cell_type": "markdown",
      "metadata": {
        "id": "QXmGPkn4ZnDi"
      },
      "source": [
        "# Option pricing with different volatilities\n",
        "Motivation towards $\\mathbb{R}^n \\to \\mathbb{R}^m$"
      ]
    },
    {
      "cell_type": "code",
      "source": [
        "from google.colab import drive\n",
        "drive.mount('/content/drive')\n",
        "import os\n",
        "os.chdir('drive/My Drive/Teaching/LT_2021_2022/ST456/Week03')"
      ],
      "metadata": {
        "id": "_Fc4eS7bk71R"
      },
      "execution_count": null,
      "outputs": []
    },
    {
      "cell_type": "code",
      "execution_count": null,
      "metadata": {
        "id": "zo3GZDcOZnDo"
      },
      "outputs": [],
      "source": [
        "from BS_Fun import *\n",
        "import seaborn as sns\n",
        "import matplotlib.pyplot as plt"
      ]
    },
    {
      "cell_type": "code",
      "execution_count": null,
      "metadata": {
        "id": "ueDw8mZbZnDq"
      },
      "outputs": [],
      "source": [
        "k = np.arange(1,100,0.1)\n",
        "sig = [0.5,1,2,3]\n",
        "trial = BS_Options_Pricing_sigma(S=20,K=k,T=1,r=0.01,sigma=sig)\n",
        "trial.make_calls()\n"
      ]
    },
    {
      "cell_type": "code",
      "execution_count": null,
      "metadata": {
        "id": "UJ4fpuzmZnDr"
      },
      "outputs": [],
      "source": [
        "trial.calls.update({'strike':k})\n",
        "df(trial.calls).plot('strike')"
      ]
    },
    {
      "cell_type": "markdown",
      "metadata": {
        "id": "7V_t0oOQZnDt"
      },
      "source": [
        "## Non-linear approximation: towards $\\mathbb{R}^{16} \\to \\mathbb{R}$"
      ]
    },
    {
      "cell_type": "code",
      "execution_count": null,
      "metadata": {
        "id": "S6Zkxg_jZnDu"
      },
      "outputs": [],
      "source": [
        "from tf_Fun import *\n",
        "initialisation_tf()"
      ]
    },
    {
      "cell_type": "code",
      "execution_count": null,
      "metadata": {
        "id": "ZqQcrUM5ZnDu"
      },
      "outputs": [],
      "source": [
        "def generate_sample_no_noise(S=20,K=np.arange(5,21,1),\n",
        "                             T=1,r=0,true_sigma=np.arange(0.1,5,0.01)):\n",
        "    '''\n",
        "    We receive data over different calls, and would like to recover sigma\n",
        "    Assume that we have no noise in the data\n",
        "    '''\n",
        "    trial = BS_Options_Pricing_sigma(S,K,T,r,true_sigma)\n",
        "    trial.make_calls()\n",
        "    data=df(trial.calls).transpose()\n",
        "    data.reset_index(inplace=True)\n",
        "    data.columns = ['sig']+K.tolist()\n",
        "    return data"
      ]
    },
    {
      "cell_type": "code",
      "execution_count": null,
      "metadata": {
        "id": "6S6-J3sIZnDv"
      },
      "outputs": [],
      "source": [
        "data = generate_sample_no_noise()\n",
        "data.set_index('sig').iloc[nr.randint(500,size=10)].transpose().plot(legend=False)"
      ]
    },
    {
      "cell_type": "code",
      "execution_count": null,
      "metadata": {
        "id": "l3qLNpcTZnDx"
      },
      "outputs": [],
      "source": [
        "y = data.pop('sig')\n",
        "X = data\n",
        "\n",
        "X_train, X_test, y_train, y_test = skms.train_test_split(X, y, test_size=0.33, random_state=0)\n",
        "\n",
        "feature_normaliser = layers.Normalization(input_shape=[16], axis=1,name='normaliser')\n",
        "feature_normaliser.adapt(X_train)"
      ]
    },
    {
      "cell_type": "code",
      "execution_count": null,
      "metadata": {
        "id": "vQLDTXcnZnDy"
      },
      "outputs": [],
      "source": [
        "lr=linear_regression_make(feature_normaliser)\n",
        "\n",
        "history = lr.fit(\n",
        "    X_train,\n",
        "    y_train,\n",
        "    epochs=10,\n",
        "    verbose=1,\n",
        "    validation_data = (X_test, y_test)\n",
        ")\n",
        "#Problems! Initialisation matters "
      ]
    },
    {
      "cell_type": "markdown",
      "metadata": {
        "id": "eagxqdCGZnDy"
      },
      "source": [
        "see https://keras.io/api/layers/initializers/ for instance"
      ]
    },
    {
      "cell_type": "code",
      "execution_count": null,
      "metadata": {
        "id": "FJ-Qcm8fZnDz"
      },
      "outputs": [],
      "source": [
        "lr.weights"
      ]
    },
    {
      "cell_type": "markdown",
      "metadata": {
        "id": "AwQQYq_SZnDz"
      },
      "source": [
        "**Exercise:** Observe the importance of zeroweights and / or SGD learning rate\n"
      ]
    },
    {
      "cell_type": "code",
      "source": [
        "## Students practice"
      ],
      "metadata": {
        "id": "ZyZcI5QIpfbg"
      },
      "execution_count": null,
      "outputs": []
    },
    {
      "cell_type": "markdown",
      "source": [
        "---\n",
        "\n",
        "## Now we pull everything up and evaluate them a bit more systematically "
      ],
      "metadata": {
        "id": "TS34AnLzpfne"
      }
    },
    {
      "cell_type": "code",
      "execution_count": null,
      "metadata": {
        "id": "PJn0aoWaZnD2"
      },
      "outputs": [],
      "source": [
        "Linear=linear_regression_make(feature_normaliser)\n",
        "Linear.compile(optimizer=tf.optimizers.SGD(learning_rate=0.01),\n",
        "    loss='mean_squared_error')\n",
        "\n",
        "Model1 = keras.Sequential(name='One_layer_model')\n",
        "Model1.add(feature_normaliser)\n",
        "Model1.add(layers.Dense(16,activation='sigmoid',name='sigmoid'))\n",
        "Model1.add(layers.Dense(1,name='dense_after_sigmoid'))\n",
        "\n",
        "Model1.compile(\n",
        "    optimizer=tf.optimizers.SGD(learning_rate=0.1),\n",
        "    loss='mean_squared_error')\n",
        "\n",
        "Model2 = keras.Sequential(name='Two_layers_model')\n",
        "Model2.add(feature_normaliser)\n",
        "Model2.add(layers.Dense(16,activation='sigmoid',name='sigmoid0'))\n",
        "Model2.add(layers.Dense(8,name='linear_8X4'))\n",
        "Model2.add(layers.Dense(4,activation='sigmoid',name='sigmoid1'))\n",
        "Model2.add(layers.Dense(1,name='linear_8X1'))\n",
        "\n",
        "Model2.summary()\n",
        "\n",
        "Model2.compile(\n",
        "    optimizer=tf.optimizers.SGD(learning_rate=0.1),\n",
        "    loss='mean_squared_error')\n",
        "\n",
        "history0 = Linear.fit(\n",
        "    X_train,\n",
        "    y_train,\n",
        "    epochs=100,\n",
        "    verbose=0,\n",
        "    validation_data = (X_test,\n",
        "                      y_test))\n",
        "\n",
        "history1 = Model1.fit(\n",
        "    X_train,\n",
        "    y_train,\n",
        "    epochs=100,\n",
        "    verbose=0,\n",
        "    validation_data = (X_test,\n",
        "                      y_test))\n",
        "\n",
        "history2 = Model2.fit(\n",
        "    X_train,\n",
        "    y_train,\n",
        "    epochs=100,\n",
        "    verbose=0,\n",
        "    validation_data = (X_test,\n",
        "                      y_test))"
      ]
    },
    {
      "cell_type": "code",
      "execution_count": null,
      "metadata": {
        "id": "_9hypvTCZnD2"
      },
      "outputs": [],
      "source": [
        "plt.figure()\n",
        "plt.plot(history0.history['loss'], label='Model 1 training loss',color='lightblue')\n",
        "plt.plot(history0.history['val_loss'], label='Model 1 validation loss',color='blue')\n",
        "plt.legend()\n",
        "plt.grid(True)\n",
        "\n",
        "plt.figure()\n",
        "plt.plot(history1.history['loss'], label='Model 1 training loss',color='darkviolet')\n",
        "plt.plot(history1.history['val_loss'], label='Model 1 validation loss',color='violet')\n",
        "plt.legend()\n",
        "plt.grid(True)\n",
        "\n",
        "plt.figure()\n",
        "plt.plot(history2.history['loss'], label='Model 2 training loss',color='darkgreen')\n",
        "plt.plot(history2.history['val_loss'], label='Model 2 validation loss',color='lime')\n",
        "plt.legend()\n",
        "plt.grid(True)\n",
        "plt.show()"
      ]
    },
    {
      "cell_type": "code",
      "execution_count": null,
      "metadata": {
        "id": "dRE5taJaZnD2"
      },
      "outputs": [],
      "source": [
        "y_pred0=Linear.predict(X)\n",
        "y_pred1=Model1.predict(X)\n",
        "y_pred2=Model2.predict(X)\n",
        "\n",
        "aligned_result=df(y).reset_index().join(df(y_pred0)).join(df(y_pred1),rsuffix='1').join(df(y_pred2),rsuffix='11').set_index('index')\n",
        "# aligned_result.plot()\n",
        "aligned_result.columns=['data','prediction_Linear','prediction_from_M1','prediction_from_M2']\n",
        "aligned_result.sort_index().plot()"
      ]
    },
    {
      "cell_type": "code",
      "execution_count": null,
      "metadata": {
        "id": "BciVZ1y6ZnD2"
      },
      "outputs": [],
      "source": [
        "print('Linear model: %.3f' % Linear.evaluate(X_test, y_test,verbose=0))\n",
        "print('Model 1: %.3f' % Model1.evaluate(X_test, y_test,verbose=0))\n",
        "print('Model 2: %.3f' % Model2.evaluate(X_test, y_test,verbose=0))"
      ]
    },
    {
      "cell_type": "markdown",
      "source": [
        "**Exercise:** what would happen if we run the models for another 100 steps (epochs)? What about another 300 stpes after that?"
      ],
      "metadata": {
        "id": "NJcv3Qq_r8Ud"
      }
    },
    {
      "cell_type": "code",
      "source": [
        ""
      ],
      "metadata": {
        "id": "QzB6LcpurDKd"
      },
      "execution_count": null,
      "outputs": []
    }
  ],
  "metadata": {
    "kernelspec": {
      "display_name": "Python 3",
      "language": "python",
      "name": "python3"
    },
    "language_info": {
      "codemirror_mode": {
        "name": "ipython",
        "version": 3
      },
      "file_extension": ".py",
      "mimetype": "text/x-python",
      "name": "python",
      "nbconvert_exporter": "python",
      "pygments_lexer": "ipython3",
      "version": "3.7.6"
    },
    "colab": {
      "name": "w03_MainNB2_students_version.ipynb",
      "provenance": [],
      "collapsed_sections": []
    }
  },
  "nbformat": 4,
  "nbformat_minor": 0
}