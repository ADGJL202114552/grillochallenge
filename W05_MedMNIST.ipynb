{
  "nbformat": 4,
  "nbformat_minor": 0,
  "metadata": {
    "colab": {
      "name": "W05_MedMNIST.ipynb",
      "provenance": [],
      "collapsed_sections": []
    },
    "kernelspec": {
      "name": "python3",
      "display_name": "Python 3"
    },
    "language_info": {
      "name": "python"
    },
    "accelerator": "GPU"
  },
  "cells": [
    {
      "cell_type": "markdown",
      "source": [
        "# Disease Classification using Medical MNIST\n",
        "\n",
        "Based on the following references:\n",
        "\n",
        "* https://cainvas.ai-tech.systems/use-cases/disease-classification-app/\n",
        "* https://medium.com/ai-techsystems/disease-classification-using-medical-mnist-f468655c0de8\n",
        "\n",
        "---\n",
        "\n",
        "## Modified MedMNIST dataset\n",
        "\n",
        "This dataset was developed in 2017 by Arturo Polanco Lozano. It is also known as the **MedNIST dataset for radiology and medical imaging**. \n",
        "\n",
        "For the preparation of this dataset, images have been gathered from several datasets, namely, TCIA, the RSNA Bone Age Challange, and the NIH Chest X-ray dataset.\n",
        "\n",
        "This dataset contains 58954 medical images belonging to 6 categories — AbdomenCT (10000 images), HeadCT (10000 images), Hand (10000 images), CXR (10000 images), CXR (10000 images), BreastMRI (8954 images), ChestCT (10000 images)."
      ],
      "metadata": {
        "id": "_YF2Rb9YKmIV"
      }
    },
    {
      "cell_type": "code",
      "source": [
        "from IPython.display import Image\n",
        "Image(filename='/content/MedMNIST.png', width=400) "
      ],
      "metadata": {
        "id": "WblNVQcrWACv"
      },
      "execution_count": null,
      "outputs": []
    },
    {
      "cell_type": "code",
      "source": [
        "import os\n",
        "import numpy as np\n",
        "import pandas as pd\n",
        "import random, datetime, os, shutil, math"
      ],
      "metadata": {
        "id": "QqFvEaH-Jr3-"
      },
      "execution_count": null,
      "outputs": []
    },
    {
      "cell_type": "code",
      "source": [
        "import matplotlib.pyplot as plt\n",
        "from matplotlib.image import imread\n",
        "from tensorflow.keras.preprocessing.image import ImageDataGenerator\n",
        "from tensorflow.keras.preprocessing import image"
      ],
      "metadata": {
        "id": "Rx7-nj6FKhxW"
      },
      "execution_count": null,
      "outputs": []
    },
    {
      "cell_type": "code",
      "source": [
        "from tensorflow.keras.callbacks import ModelCheckpoint, EarlyStopping\n",
        "from tensorflow.keras.callbacks import ReduceLROnPlateau\n",
        "from tensorflow.keras.models import Sequential\n",
        "from tensorflow.keras.layers import Conv2D, MaxPooling2D, Flatten, Dense\n",
        "from tensorflow.keras.utils import plot_model"
      ],
      "metadata": {
        "id": "-I2fXqLpLNrv"
      },
      "execution_count": null,
      "outputs": []
    },
    {
      "cell_type": "markdown",
      "source": [
        "### Load the dataset"
      ],
      "metadata": {
        "id": "1GaA9kyjWlOZ"
      }
    },
    {
      "cell_type": "code",
      "execution_count": null,
      "metadata": {
        "id": "il7sCEwDJkmb"
      },
      "outputs": [],
      "source": [
        "!wget -N \"https://cainvas-static.s3.amazonaws.com/media/user_data/cainvas-admin/MedNIST.zip\"\n",
        "!unzip -qo \"MedNIST.zip\"\n",
        "!rm \"MedNIST.zip\""
      ]
    },
    {
      "cell_type": "code",
      "source": [
        "test_dir = \"/content/Medical/Medical_test\"\n",
        "train_dir = \"/content/Medical/Medical_train\""
      ],
      "metadata": {
        "id": "_VtScD6_Jr0h"
      },
      "execution_count": null,
      "outputs": []
    },
    {
      "cell_type": "code",
      "source": [
        "def prep_test_data(med, train_dir, test_dir):\n",
        "  pop = os.listdir(train_dir+'/'+med)\n",
        "  test_data=random.sample(pop, 2000)\n",
        "  #print(test_data)\n",
        "  for f in test_data:\n",
        "    shutil.copy(train_dir+'/'+med+'/'+f, test_dir+'/'+med+'/')"
      ],
      "metadata": {
        "id": "FhDzpq8LJr50"
      },
      "execution_count": null,
      "outputs": []
    },
    {
      "cell_type": "code",
      "source": [
        "for medi in os.listdir(train_dir):\n",
        "  prep_test_data(medi, train_dir, test_dir)"
      ],
      "metadata": {
        "id": "jyioiL7RJr9z"
      },
      "execution_count": null,
      "outputs": []
    },
    {
      "cell_type": "code",
      "source": [
        "target_classes = os.listdir(train_dir)\n",
        "num_classes = len(target_classes)\n",
        "print('Number of target classes:', num_classes)\n",
        "print(list(enumerate(target_classes)))"
      ],
      "metadata": {
        "id": "--boEDPfJsB1"
      },
      "execution_count": null,
      "outputs": []
    },
    {
      "cell_type": "code",
      "source": [
        "training_set_distribution = [len(os.listdir(os.path.join(train_dir, dir))) for dir in os.listdir(train_dir)]\n",
        "testing_set_distribution = [len(os.listdir(os.path.join(test_dir, dir))) for dir in os.listdir(test_dir)]"
      ],
      "metadata": {
        "id": "HNuend74JsES"
      },
      "execution_count": null,
      "outputs": []
    },
    {
      "cell_type": "markdown",
      "source": [
        "## Exploratory data analysis"
      ],
      "metadata": {
        "id": "W06gO-atWwhi"
      }
    },
    {
      "cell_type": "code",
      "source": [
        "def show_mri(med):\n",
        "  num = len(med)\n",
        "  if num == 0:\n",
        "    return None\n",
        "  rows = int(math.sqrt(num))\n",
        "  cols = (num+1)//rows\n",
        "  f, axs = plt.subplots(rows, cols)\n",
        "  fig = 0\n",
        "  for b in med:\n",
        "    img = image.load_img(b)\n",
        "    row = fig // cols\n",
        "    col = fig % cols\n",
        "    axs[row, col].imshow(img)\n",
        "    fig += 1\n",
        "  plt.show()"
      ],
      "metadata": {
        "id": "4gE990VTKht_"
      },
      "execution_count": null,
      "outputs": []
    },
    {
      "cell_type": "code",
      "source": [
        "dir_name = os.path.join(train_dir,\"Hand\")\n",
        "all_images = [os.path.join(dir_name, fname) for fname in os.listdir(dir_name)]\n",
        "show_mri(all_images[:9])"
      ],
      "metadata": {
        "id": "s6rm-VerKh1U"
      },
      "execution_count": null,
      "outputs": []
    },
    {
      "cell_type": "markdown",
      "source": [
        "### Data preprocessing"
      ],
      "metadata": {
        "id": "LfaAEIBgXDgr"
      }
    },
    {
      "cell_type": "code",
      "source": [
        "image_size = (32, 32, 3)\n",
        "datagen = ImageDataGenerator(rescale = 1./255,\n",
        "                           shear_range=0.2,\n",
        "                           zoom_range=0.2,\n",
        "                           horizontal_flip=True,\n",
        "                           )"
      ],
      "metadata": {
        "id": "UApU1IBHKh4B"
      },
      "execution_count": null,
      "outputs": []
    },
    {
      "cell_type": "code",
      "source": [
        "training_set = datagen.flow_from_directory(train_dir,\n",
        "                                         target_size=image_size[:2],\n",
        "                                         batch_size=64, # changed from 32\n",
        "                                         class_mode='categorical',\n",
        "                                         shuffle=False\n",
        "                                         #color_mode='rgb'\n",
        "                                         )"
      ],
      "metadata": {
        "id": "3qeMViQaKh6x"
      },
      "execution_count": null,
      "outputs": []
    },
    {
      "cell_type": "code",
      "source": [
        "validation_set = datagen.flow_from_directory(test_dir,\n",
        "                                           target_size=image_size[:2],\n",
        "                                           batch_size=64, # changed from 32\n",
        "                                           class_mode='categorical',\n",
        "                                           shuffle=False\n",
        "                                           )"
      ],
      "metadata": {
        "id": "dlQtb725Kh-1"
      },
      "execution_count": null,
      "outputs": []
    },
    {
      "cell_type": "markdown",
      "source": [
        "### Callback functions \n",
        "\n",
        "These functions are using during training for improving model's learning."
      ],
      "metadata": {
        "id": "4DrInRzXXOY3"
      }
    },
    {
      "cell_type": "code",
      "source": [
        "es = EarlyStopping(monitor='val_acc', mode='max', verbose=1, patience=7)\n",
        "filepath = \"modelMedicalMNIST.h5\"\n",
        "ckpt = ModelCheckpoint(filepath, monitor='acc', verbose=1, save_best_only=True, mode='max')\n",
        "rlp = ReduceLROnPlateau(monitor='acc', patience=3, verbose=1)"
      ],
      "metadata": {
        "id": "xnh5zcJiLNuc"
      },
      "execution_count": null,
      "outputs": []
    },
    {
      "cell_type": "markdown",
      "source": [
        "## Model definition"
      ],
      "metadata": {
        "id": "aIHfd2ARXb9L"
      }
    },
    {
      "cell_type": "code",
      "source": [
        "def cnn(image_size, num_classes):\n",
        "    classifier = Sequential()\n",
        "    classifier.add(Conv2D(64, (5, 5), input_shape=image_size, activation='relu', padding='same'))\n",
        "    classifier.add(MaxPooling2D(pool_size = (2, 2)))\n",
        "    classifier.add(Conv2D(128, (3, 3), activation='relu', padding='same'))\n",
        "    classifier.add(MaxPooling2D(pool_size = (2, 2)))\n",
        "    classifier.add(Flatten())\n",
        "    classifier.add(Dense(num_classes, activation = 'softmax'))\n",
        "    classifier.compile(optimizer='adam', loss='categorical_crossentropy', metrics=['acc'])\n",
        "    return classifier\n",
        "\n",
        "neuralnetwork_cnn = cnn(image_size, num_classes)\n",
        "neuralnetwork_cnn.summary()\n",
        "#plot_model(neuralnetwork_cnn, show_shapes=True) "
      ],
      "metadata": {
        "id": "eJhaBDoyLNx-"
      },
      "execution_count": null,
      "outputs": []
    },
    {
      "cell_type": "markdown",
      "source": [
        "### Model training"
      ],
      "metadata": {
        "id": "yPb_zYKCXmec"
      }
    },
    {
      "cell_type": "code",
      "source": [
        "history = neuralnetwork_cnn.fit_generator(\n",
        "    generator=training_set, validation_data=validation_set,\n",
        "    callbacks=[es, ckpt, rlp], epochs = 5, \n",
        ")"
      ],
      "metadata": {
        "id": "uWKWOtiyLN34"
      },
      "execution_count": null,
      "outputs": []
    },
    {
      "cell_type": "code",
      "source": [
        "fig, ax = plt.subplots(figsize=(20, 6))\n",
        "pd.DataFrame(history.history).iloc[:, :-1].plot(ax=ax)"
      ],
      "metadata": {
        "id": "DRdfbyVWLN7t"
      },
      "execution_count": null,
      "outputs": []
    },
    {
      "cell_type": "code",
      "source": [
        "batch_size = 64\n",
        "pred = neuralnetwork_cnn.predict(validation_set, steps=306/batch_size)\n",
        "predicted_class_indices = np.argmax(pred,axis=1)"
      ],
      "metadata": {
        "id": "4gIa9GMwLN-k"
      },
      "execution_count": null,
      "outputs": []
    },
    {
      "cell_type": "code",
      "source": [
        "labels = (validation_set.class_indices)\n",
        "labels = dict((v,k) for k,v in labels.items())\n",
        "predictions = [labels[k] for k in predicted_class_indices]"
      ],
      "metadata": {
        "id": "_O0mAm-kLOBo"
      },
      "execution_count": null,
      "outputs": []
    },
    {
      "cell_type": "code",
      "source": [
        "filenames = validation_set.filenames[0]\n",
        "results = pd.DataFrame({\"Filename\":filenames,\n",
        "                      \"Predictions\":predictions})"
      ],
      "metadata": {
        "id": "yqJGko10LOD_"
      },
      "execution_count": null,
      "outputs": []
    },
    {
      "cell_type": "code",
      "source": [
        "display(results.tail(100))"
      ],
      "metadata": {
        "id": "lnTfj5r9LON5"
      },
      "execution_count": null,
      "outputs": []
    }
  ]
}